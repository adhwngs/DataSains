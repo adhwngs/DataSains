{
  "cells": [
    {
      "cell_type": "markdown",
      "metadata": {
        "id": "view-in-github",
        "colab_type": "text"
      },
      "source": [
        "<a href=\"https://colab.research.google.com/github/adhwngs/DataSains/blob/main/Tugas1_DataSains_Fahmi_Adhiwangsa_1103204142.ipynb\" target=\"_parent\"><img src=\"https://colab.research.google.com/assets/colab-badge.svg\" alt=\"Open In Colab\"/></a>"
      ]
    },
    {
      "cell_type": "markdown",
      "metadata": {
        "id": "9J3ES5SZAYGU"
      },
      "source": [
        "![header%20ipynb.png](attachment:header%20ipynb.png)"
      ]
    },
    {
      "cell_type": "markdown",
      "metadata": {
        "id": "t89XFEK4AYGW"
      },
      "source": [
        "# Hands-On\n",
        "Hands-On ini digunakan pada kegiatan Microcredential Associate Data Scientist 2021"
      ]
    },
    {
      "cell_type": "markdown",
      "metadata": {
        "id": "Ara4UT3vAYGX"
      },
      "source": [
        "## Memulai Python!"
      ]
    },
    {
      "cell_type": "markdown",
      "metadata": {
        "id": "QBaTS7HOAYGX"
      },
      "source": [
        "Dapat menuliskan keterangan kode menggunakan _Markdown_"
      ]
    },
    {
      "cell_type": "code",
      "execution_count": 3,
      "metadata": {
        "colab": {
          "base_uri": "https://localhost:8080/"
        },
        "id": "Kz8yvtkBAYGY",
        "outputId": "073bc0eb-b15d-4881-b4da-73baef970644"
      },
      "outputs": [
        {
          "output_type": "stream",
          "name": "stdout",
          "text": [
            "Hello world!\n"
          ]
        }
      ],
      "source": [
        "print(\"Hello world!\")   # pengenalan menampilkan hello world saja"
      ]
    },
    {
      "cell_type": "code",
      "execution_count": 4,
      "metadata": {
        "id": "DIXwM9ixAYGZ"
      },
      "outputs": [],
      "source": [
        "height = 2.00 #minimum ketinggian"
      ]
    },
    {
      "cell_type": "code",
      "execution_count": 5,
      "metadata": {
        "id": "uJc3ogZrAYGZ"
      },
      "outputs": [],
      "source": [
        "tall = True  # perintah untuk memastikan perintah benar atau tidak"
      ]
    },
    {
      "cell_type": "code",
      "execution_count": 6,
      "metadata": {
        "id": "4SWR2Zq9AYGa"
      },
      "outputs": [],
      "source": [
        "height1 = 2.00"
      ]
    },
    {
      "cell_type": "code",
      "execution_count": 7,
      "metadata": {
        "id": "OkMii4xmAYGa"
      },
      "outputs": [],
      "source": [
        "height2 = 1.90"
      ]
    },
    {
      "cell_type": "code",
      "execution_count": 8,
      "metadata": {
        "id": "uRasX07vAYGa"
      },
      "outputs": [],
      "source": [
        "height3 = 2.10"
      ]
    },
    {
      "cell_type": "code",
      "execution_count": 9,
      "metadata": {
        "id": "bGv_vUejAYGa"
      },
      "outputs": [],
      "source": [
        "height4 = 1.87"
      ]
    },
    {
      "cell_type": "markdown",
      "metadata": {
        "id": "vouaTaMjAYGb"
      },
      "source": [
        "<b>Masalah</b> :\n",
        "- Terlalu banyak data masukan untuk tipe data yang sama\n",
        "- Tidak nyaman\n",
        "- Solusi: Python List\n"
      ]
    },
    {
      "cell_type": "code",
      "execution_count": 10,
      "metadata": {
        "colab": {
          "base_uri": "https://localhost:8080/"
        },
        "id": "dFFbBPv5AYGb",
        "outputId": "87068189-a9f0-4aaf-963e-4baf02b15fce"
      },
      "outputs": [
        {
          "output_type": "execute_result",
          "data": {
            "text/plain": [
              "[2.0, 1.9, 2.1, 1.87, 1.99]"
            ]
          },
          "metadata": {},
          "execution_count": 10
        }
      ],
      "source": [
        "[2.00, 1.90, 2.10, 1.87, 1.99] # pengelompokan lalu di tampilkan dioutput\n"
      ]
    },
    {
      "cell_type": "code",
      "execution_count": 11,
      "metadata": {
        "id": "NBQKUW4OAYGb"
      },
      "outputs": [],
      "source": [
        "height = [2.00, 1.90, 2.10, 1.87, 1.99]"
      ]
    },
    {
      "cell_type": "code",
      "execution_count": 12,
      "metadata": {
        "colab": {
          "base_uri": "https://localhost:8080/"
        },
        "id": "M30hWOOtAYGc",
        "outputId": "8b46ed81-feac-4f52-c950-2cb15336c084"
      },
      "outputs": [
        {
          "output_type": "execute_result",
          "data": {
            "text/plain": [
              "[2.0, 1.9, 2.1, 1.87, 1.99]"
            ]
          },
          "metadata": {},
          "execution_count": 12
        }
      ],
      "source": [
        "height"
      ]
    },
    {
      "cell_type": "code",
      "execution_count": 13,
      "metadata": {
        "id": "aELrxlJZAYGc"
      },
      "outputs": [],
      "source": [
        "famz = [\"adhi\", 2.00, \"gung\", 1.90, \"ten\", 2.10, \"Dad\", 1.87] # disini kita memasukan nama sesuai dengan ketinggiannya"
      ]
    },
    {
      "cell_type": "code",
      "execution_count": 14,
      "metadata": {
        "colab": {
          "base_uri": "https://localhost:8080/"
        },
        "id": "apjGi_nsAYGc",
        "outputId": "d5402da2-431d-403b-8d9a-878be2172788"
      },
      "outputs": [
        {
          "output_type": "execute_result",
          "data": {
            "text/plain": [
              "['adhi', 2.0, 'gung', 1.9, 'ten', 2.1, 'Dad', 1.87]"
            ]
          },
          "metadata": {},
          "execution_count": 14
        }
      ],
      "source": [
        "famz"
      ]
    },
    {
      "cell_type": "code",
      "execution_count": 15,
      "metadata": {
        "id": "SlY4NnfjAYGd"
      },
      "outputs": [],
      "source": [
        "weight = [55.00, 60.0, 64.7, 60.0, 77.7]  #input berat badan"
      ]
    },
    {
      "cell_type": "code",
      "source": [
        "np_height = np.array(height)"
      ],
      "metadata": {
        "id": "XtgV82bXwuiE"
      },
      "execution_count": 61,
      "outputs": []
    },
    {
      "cell_type": "code",
      "source": [
        "np_weight = np.array(weight)"
      ],
      "metadata": {
        "id": "-dv7135dwzPf"
      },
      "execution_count": 62,
      "outputs": []
    },
    {
      "cell_type": "code",
      "execution_count": 16,
      "metadata": {
        "colab": {
          "base_uri": "https://localhost:8080/"
        },
        "id": "oA2YV8YLAYGd",
        "outputId": "0aeba1b1-057c-4090-80a8-2c879a3f8882"
      },
      "outputs": [
        {
          "output_type": "execute_result",
          "data": {
            "text/plain": [
              "[55.0, 60.0, 64.7, 60.0, 77.7]"
            ]
          },
          "metadata": {},
          "execution_count": 16
        }
      ],
      "source": [
        "weight #menampilkan data berat badan"
      ]
    },
    {
      "cell_type": "code",
      "execution_count": 63,
      "metadata": {
        "colab": {
          "base_uri": "https://localhost:8080/"
        },
        "id": "BMAm5jQlAYGd",
        "outputId": "1c858cf7-8958-469e-83e2-fd1ab5bb5204"
      },
      "outputs": [
        {
          "output_type": "stream",
          "name": "stdout",
          "text": [
            "13.75\n",
            "16.62049861495845\n",
            "14.671201814058957\n",
            "17.158054276645025\n",
            "19.62071664856948\n"
          ]
        }
      ],
      "source": [
        "for i in range(len(weight)):\n",
        "    bmi = weight[i] / (height[i] ** 2)  #printah penjumlahan untuk mendapatkan tubuh ideal\n",
        "    print(bmi) #perintah untuk menampilkan hasil dari penjumlahan diatas"
      ]
    },
    {
      "cell_type": "markdown",
      "metadata": {
        "id": "WacdS8zlAYGd"
      },
      "source": [
        "### Solusi: NumPy\n",
        "- Library dasar untuk perhitungan saintifik (scientific computing) dengan Python (https://numpy.org/)\n",
        "- Alternatif untuk Python List: Numpy Array untuk n-dimensi\n",
        "- Mudah digunakan dan bersifat open source\n",
        "- Jika library belum terpasang, tuliskan perintah instalasi: _pip install numpy_\n",
        "- Kemudian impor: _import numpy as np_\n"
      ]
    },
    {
      "cell_type": "code",
      "execution_count": 18,
      "metadata": {
        "id": "XwhVYYhJAYGd"
      },
      "outputs": [],
      "source": [
        "import numpy as np #memanggil library numpy"
      ]
    },
    {
      "cell_type": "code",
      "execution_count": 19,
      "metadata": {
        "id": "jJxTuzFOAYGe"
      },
      "outputs": [],
      "source": [
        "np_height = np.array(height) #perintah untuk menjadikan sebuah inputan angka menjadi array"
      ]
    },
    {
      "cell_type": "code",
      "execution_count": 20,
      "metadata": {
        "colab": {
          "base_uri": "https://localhost:8080/"
        },
        "id": "FQvoMnlSAYGe",
        "outputId": "1c012e8a-5795-41a4-fee8-be5388233dcd"
      },
      "outputs": [
        {
          "output_type": "execute_result",
          "data": {
            "text/plain": [
              "array([2.  , 1.9 , 2.1 , 1.87, 1.99])"
            ]
          },
          "metadata": {},
          "execution_count": 20
        }
      ],
      "source": [
        "np_height"
      ]
    },
    {
      "cell_type": "code",
      "execution_count": 21,
      "metadata": {
        "id": "v6AnQJejAYGe"
      },
      "outputs": [],
      "source": [
        "np_weight = np.array(weight) #perintah untuk menjadikan sebuah inputan angka menjadi array"
      ]
    },
    {
      "cell_type": "code",
      "execution_count": 22,
      "metadata": {
        "colab": {
          "base_uri": "https://localhost:8080/"
        },
        "id": "UZZPRSnpAYGe",
        "outputId": "a5ccd4bf-7479-4201-80e0-226d03590747"
      },
      "outputs": [
        {
          "output_type": "execute_result",
          "data": {
            "text/plain": [
              "array([55. , 60. , 64.7, 60. , 77.7])"
            ]
          },
          "metadata": {},
          "execution_count": 22
        }
      ],
      "source": [
        "np_weight"
      ]
    },
    {
      "cell_type": "code",
      "execution_count": 23,
      "metadata": {
        "id": "3KoXFN6_AYGf"
      },
      "outputs": [],
      "source": [
        "bmi = np_weight / np_height ** 2"
      ]
    },
    {
      "cell_type": "code",
      "execution_count": 24,
      "metadata": {
        "colab": {
          "base_uri": "https://localhost:8080/"
        },
        "id": "h4LMfmdKAYGf",
        "outputId": "9a705a59-8418-4255-a8c1-8f5aaf18eac4"
      },
      "outputs": [
        {
          "output_type": "execute_result",
          "data": {
            "text/plain": [
              "array([13.75      , 16.62049861, 14.67120181, 17.15805428, 19.62071665])"
            ]
          },
          "metadata": {},
          "execution_count": 24
        }
      ],
      "source": [
        "bmi #perintah untuk menampilkan output dari hasil penjumlahan berat/tinggi*2"
      ]
    },
    {
      "cell_type": "markdown",
      "metadata": {
        "id": "Pe8RmMmDAYGf"
      },
      "source": [
        "Untuk melihat fungsi lain pada NumPy, gunakan perintah _np.< TAB >_"
      ]
    },
    {
      "cell_type": "code",
      "execution_count": 25,
      "metadata": {
        "colab": {
          "base_uri": "https://localhost:8080/"
        },
        "id": "2nRCA4ExAYGf",
        "outputId": "e1bc4ae0-978b-49c7-fdda-ff55aa3d84c7"
      },
      "outputs": [
        {
          "output_type": "execute_result",
          "data": {
            "text/plain": [
              "<module 'numpy' from '/usr/local/lib/python3.10/dist-packages/numpy/__init__.py'>"
            ]
          },
          "metadata": {},
          "execution_count": 25
        }
      ],
      "source": [
        "np  #fungsi numpy"
      ]
    },
    {
      "cell_type": "code",
      "execution_count": 26,
      "metadata": {
        "id": "wP48T9_zAYGf"
      },
      "outputs": [],
      "source": [
        "np_height = np.array([2.00, 1.90, 2.10, 1.87, 1.99])"
      ]
    },
    {
      "cell_type": "code",
      "execution_count": 27,
      "metadata": {
        "id": "Nm9PG_5oAYGg"
      },
      "outputs": [],
      "source": [
        "np_weight = np.array([55.00, 60.0, 64.7, 60.0, 77.7])"
      ]
    },
    {
      "cell_type": "code",
      "execution_count": 28,
      "metadata": {
        "colab": {
          "base_uri": "https://localhost:8080/"
        },
        "id": "wQMnSsDEAYGg",
        "outputId": "94d38992-1a29-4415-868c-8914bd40c340"
      },
      "outputs": [
        {
          "output_type": "execute_result",
          "data": {
            "text/plain": [
              "numpy.ndarray"
            ]
          },
          "metadata": {},
          "execution_count": 28
        }
      ],
      "source": [
        "type(np_height)"
      ]
    },
    {
      "cell_type": "code",
      "execution_count": 29,
      "metadata": {
        "colab": {
          "base_uri": "https://localhost:8080/"
        },
        "id": "NGyOzztyAYGg",
        "outputId": "68f43767-b449-4b89-bdd5-a9acead347df"
      },
      "outputs": [
        {
          "output_type": "execute_result",
          "data": {
            "text/plain": [
              "numpy.ndarray"
            ]
          },
          "metadata": {},
          "execution_count": 29
        }
      ],
      "source": [
        "type(np_weight)"
      ]
    },
    {
      "cell_type": "code",
      "execution_count": 30,
      "metadata": {
        "id": "E9qImxh9AYGg"
      },
      "outputs": [],
      "source": [
        "np_2d = np.array([[1, 2, 3, 4, 5], [6, 7, 8, 9, 10]])"
      ]
    },
    {
      "cell_type": "code",
      "execution_count": 31,
      "metadata": {
        "colab": {
          "base_uri": "https://localhost:8080/"
        },
        "id": "OWiNKxEpAYGh",
        "outputId": "e4bd8dba-5cbf-4047-d0f1-3aecabcceb92"
      },
      "outputs": [
        {
          "output_type": "execute_result",
          "data": {
            "text/plain": [
              "array([[ 1,  2,  3,  4,  5],\n",
              "       [ 6,  7,  8,  9, 10]])"
            ]
          },
          "metadata": {},
          "execution_count": 31
        }
      ],
      "source": [
        "np_2d  #menampilkan output yang kita inginkan"
      ]
    },
    {
      "cell_type": "code",
      "execution_count": 32,
      "metadata": {
        "colab": {
          "base_uri": "https://localhost:8080/"
        },
        "id": "sJvOeceMAYGh",
        "outputId": "1b7385f5-a638-4d0e-e714-758edf48c80a"
      },
      "outputs": [
        {
          "output_type": "execute_result",
          "data": {
            "text/plain": [
              "(2, 5)"
            ]
          },
          "metadata": {},
          "execution_count": 32
        }
      ],
      "source": [
        "np_2d.shape"
      ]
    },
    {
      "cell_type": "markdown",
      "metadata": {
        "id": "1WKVoHQWAYGh"
      },
      "source": [
        "### SciPy\n",
        "\n",
        "- SciPy (dibaca “Sigh Pie”) merupakan library yang bersifat open source dan tersedia di https://www.scipy.org/\n",
        "- SciPy dibangun untuk untuk bekerja dengan NumPy array dan menyediakan kumpulan algoritma numerik, termasuk pemrosesan sinyal, optimasi, statistika, dan library Matplotlib untuk visualisasi data.\n",
        "- Jika library belum terpasang, tuliskan perintah instalasi: _pip install scipy_"
      ]
    },
    {
      "cell_type": "markdown",
      "metadata": {
        "id": "xjrz_F_AAYGi"
      },
      "source": [
        "### Pandas\n",
        "\n",
        "- Pandas (Panel Data) merupakan library popular di Python yang digunakan untuk data structure dan data analysis\n",
        "- Bersifat open source dan tersedia di https://pandas.pydata.org/\n",
        "- Pandas sangat berkaitan dengan NumPy\n",
        "- Jika library belum terpasang, tuliskan perintah instalasi: _pip install pandas_\n",
        "- Kemudian impor: _import pandas as pd_"
      ]
    },
    {
      "cell_type": "code",
      "execution_count": 33,
      "metadata": {
        "colab": {
          "base_uri": "https://localhost:8080/"
        },
        "id": "MeTVQHiLAYGo",
        "outputId": "c9cc61cc-9b88-4dc1-b83c-676222b28679"
      },
      "outputs": [
        {
          "output_type": "execute_result",
          "data": {
            "text/plain": [
              "array([1, 2, 3, 4, 5])"
            ]
          },
          "metadata": {},
          "execution_count": 33
        }
      ],
      "source": [
        "#  series\n",
        "np.array([1, 2, 3, 4, 5])"
      ]
    },
    {
      "cell_type": "code",
      "execution_count": 34,
      "metadata": {
        "colab": {
          "base_uri": "https://localhost:8080/"
        },
        "id": "vqbTqF-JAYGp",
        "outputId": "1494636d-bc87-42e1-efab-1fd6170da124"
      },
      "outputs": [
        {
          "output_type": "execute_result",
          "data": {
            "text/plain": [
              "array([[1, 2],\n",
              "       [3, 4]])"
            ]
          },
          "metadata": {},
          "execution_count": 34
        }
      ],
      "source": [
        "# DataFrame\n",
        "np.array([[1, 2], [3, 4]])"
      ]
    },
    {
      "cell_type": "code",
      "execution_count": 35,
      "metadata": {
        "id": "z9OI_0b6AYGp"
      },
      "outputs": [],
      "source": [
        "import pandas as pd #memanggil library pandas"
      ]
    },
    {
      "cell_type": "code",
      "source": [
        "from google.colab import drive #perintah untuk mengkoneksikan googlecolab dengan dataset yang berada pada drive\n",
        "drive.mount('/content/drive')"
      ],
      "metadata": {
        "colab": {
          "base_uri": "https://localhost:8080/"
        },
        "id": "K_T01ekuHVMG",
        "outputId": "51db090e-fd73-40a1-8b0b-0071bcb634fc"
      },
      "execution_count": 70,
      "outputs": [
        {
          "output_type": "stream",
          "name": "stdout",
          "text": [
            "Drive already mounted at /content/drive; to attempt to forcibly remount, call drive.mount(\"/content/drive\", force_remount=True).\n"
          ]
        }
      ]
    },
    {
      "cell_type": "code",
      "execution_count": 50,
      "metadata": {
        "id": "VfQfnEf1AYGp"
      },
      "outputs": [],
      "source": [
        "Tab = pd.read_csv(\"/content/drive/MyDrive/dataset/EconomiesOfScale.csv\")"
      ]
    },
    {
      "cell_type": "code",
      "execution_count": 51,
      "metadata": {
        "colab": {
          "base_uri": "https://localhost:8080/",
          "height": 424
        },
        "id": "WrARZT7wAYGp",
        "outputId": "3b630172-48f2-4c37-86b2-d6df1969b4ea"
      },
      "outputs": [
        {
          "output_type": "execute_result",
          "data": {
            "text/plain": [
              "     Number of Units  Manufacturing Cost\n",
              "0           1.000000           95.066056\n",
              "1           1.185994           96.531750\n",
              "2           1.191499           73.661311\n",
              "3           1.204771           95.566843\n",
              "4           1.298773           98.777013\n",
              "..               ...                 ...\n",
              "995         8.099710           23.855067\n",
              "996         8.739752           27.536542\n",
              "997         8.780888           25.973787\n",
              "998         8.897700           25.138311\n",
              "999        10.000000           21.547777\n",
              "\n",
              "[1000 rows x 2 columns]"
            ],
            "text/html": [
              "\n",
              "  <div id=\"df-167cf75d-cecd-4367-ab11-e4aa057c7d7c\" class=\"colab-df-container\">\n",
              "    <div>\n",
              "<style scoped>\n",
              "    .dataframe tbody tr th:only-of-type {\n",
              "        vertical-align: middle;\n",
              "    }\n",
              "\n",
              "    .dataframe tbody tr th {\n",
              "        vertical-align: top;\n",
              "    }\n",
              "\n",
              "    .dataframe thead th {\n",
              "        text-align: right;\n",
              "    }\n",
              "</style>\n",
              "<table border=\"1\" class=\"dataframe\">\n",
              "  <thead>\n",
              "    <tr style=\"text-align: right;\">\n",
              "      <th></th>\n",
              "      <th>Number of Units</th>\n",
              "      <th>Manufacturing Cost</th>\n",
              "    </tr>\n",
              "  </thead>\n",
              "  <tbody>\n",
              "    <tr>\n",
              "      <th>0</th>\n",
              "      <td>1.000000</td>\n",
              "      <td>95.066056</td>\n",
              "    </tr>\n",
              "    <tr>\n",
              "      <th>1</th>\n",
              "      <td>1.185994</td>\n",
              "      <td>96.531750</td>\n",
              "    </tr>\n",
              "    <tr>\n",
              "      <th>2</th>\n",
              "      <td>1.191499</td>\n",
              "      <td>73.661311</td>\n",
              "    </tr>\n",
              "    <tr>\n",
              "      <th>3</th>\n",
              "      <td>1.204771</td>\n",
              "      <td>95.566843</td>\n",
              "    </tr>\n",
              "    <tr>\n",
              "      <th>4</th>\n",
              "      <td>1.298773</td>\n",
              "      <td>98.777013</td>\n",
              "    </tr>\n",
              "    <tr>\n",
              "      <th>...</th>\n",
              "      <td>...</td>\n",
              "      <td>...</td>\n",
              "    </tr>\n",
              "    <tr>\n",
              "      <th>995</th>\n",
              "      <td>8.099710</td>\n",
              "      <td>23.855067</td>\n",
              "    </tr>\n",
              "    <tr>\n",
              "      <th>996</th>\n",
              "      <td>8.739752</td>\n",
              "      <td>27.536542</td>\n",
              "    </tr>\n",
              "    <tr>\n",
              "      <th>997</th>\n",
              "      <td>8.780888</td>\n",
              "      <td>25.973787</td>\n",
              "    </tr>\n",
              "    <tr>\n",
              "      <th>998</th>\n",
              "      <td>8.897700</td>\n",
              "      <td>25.138311</td>\n",
              "    </tr>\n",
              "    <tr>\n",
              "      <th>999</th>\n",
              "      <td>10.000000</td>\n",
              "      <td>21.547777</td>\n",
              "    </tr>\n",
              "  </tbody>\n",
              "</table>\n",
              "<p>1000 rows × 2 columns</p>\n",
              "</div>\n",
              "    <div class=\"colab-df-buttons\">\n",
              "\n",
              "  <div class=\"colab-df-container\">\n",
              "    <button class=\"colab-df-convert\" onclick=\"convertToInteractive('df-167cf75d-cecd-4367-ab11-e4aa057c7d7c')\"\n",
              "            title=\"Convert this dataframe to an interactive table.\"\n",
              "            style=\"display:none;\">\n",
              "\n",
              "  <svg xmlns=\"http://www.w3.org/2000/svg\" height=\"24px\" viewBox=\"0 -960 960 960\">\n",
              "    <path d=\"M120-120v-720h720v720H120Zm60-500h600v-160H180v160Zm220 220h160v-160H400v160Zm0 220h160v-160H400v160ZM180-400h160v-160H180v160Zm440 0h160v-160H620v160ZM180-180h160v-160H180v160Zm440 0h160v-160H620v160Z\"/>\n",
              "  </svg>\n",
              "    </button>\n",
              "\n",
              "  <style>\n",
              "    .colab-df-container {\n",
              "      display:flex;\n",
              "      gap: 12px;\n",
              "    }\n",
              "\n",
              "    .colab-df-convert {\n",
              "      background-color: #E8F0FE;\n",
              "      border: none;\n",
              "      border-radius: 50%;\n",
              "      cursor: pointer;\n",
              "      display: none;\n",
              "      fill: #1967D2;\n",
              "      height: 32px;\n",
              "      padding: 0 0 0 0;\n",
              "      width: 32px;\n",
              "    }\n",
              "\n",
              "    .colab-df-convert:hover {\n",
              "      background-color: #E2EBFA;\n",
              "      box-shadow: 0px 1px 2px rgba(60, 64, 67, 0.3), 0px 1px 3px 1px rgba(60, 64, 67, 0.15);\n",
              "      fill: #174EA6;\n",
              "    }\n",
              "\n",
              "    .colab-df-buttons div {\n",
              "      margin-bottom: 4px;\n",
              "    }\n",
              "\n",
              "    [theme=dark] .colab-df-convert {\n",
              "      background-color: #3B4455;\n",
              "      fill: #D2E3FC;\n",
              "    }\n",
              "\n",
              "    [theme=dark] .colab-df-convert:hover {\n",
              "      background-color: #434B5C;\n",
              "      box-shadow: 0px 1px 3px 1px rgba(0, 0, 0, 0.15);\n",
              "      filter: drop-shadow(0px 1px 2px rgba(0, 0, 0, 0.3));\n",
              "      fill: #FFFFFF;\n",
              "    }\n",
              "  </style>\n",
              "\n",
              "    <script>\n",
              "      const buttonEl =\n",
              "        document.querySelector('#df-167cf75d-cecd-4367-ab11-e4aa057c7d7c button.colab-df-convert');\n",
              "      buttonEl.style.display =\n",
              "        google.colab.kernel.accessAllowed ? 'block' : 'none';\n",
              "\n",
              "      async function convertToInteractive(key) {\n",
              "        const element = document.querySelector('#df-167cf75d-cecd-4367-ab11-e4aa057c7d7c');\n",
              "        const dataTable =\n",
              "          await google.colab.kernel.invokeFunction('convertToInteractive',\n",
              "                                                    [key], {});\n",
              "        if (!dataTable) return;\n",
              "\n",
              "        const docLinkHtml = 'Like what you see? Visit the ' +\n",
              "          '<a target=\"_blank\" href=https://colab.research.google.com/notebooks/data_table.ipynb>data table notebook</a>'\n",
              "          + ' to learn more about interactive tables.';\n",
              "        element.innerHTML = '';\n",
              "        dataTable['output_type'] = 'display_data';\n",
              "        await google.colab.output.renderOutput(dataTable, element);\n",
              "        const docLink = document.createElement('div');\n",
              "        docLink.innerHTML = docLinkHtml;\n",
              "        element.appendChild(docLink);\n",
              "      }\n",
              "    </script>\n",
              "  </div>\n",
              "\n",
              "\n",
              "<div id=\"df-f9349445-ddb7-4d2a-aca6-d1794dd7ca07\">\n",
              "  <button class=\"colab-df-quickchart\" onclick=\"quickchart('df-f9349445-ddb7-4d2a-aca6-d1794dd7ca07')\"\n",
              "            title=\"Suggest charts.\"\n",
              "            style=\"display:none;\">\n",
              "\n",
              "<svg xmlns=\"http://www.w3.org/2000/svg\" height=\"24px\"viewBox=\"0 0 24 24\"\n",
              "     width=\"24px\">\n",
              "    <g>\n",
              "        <path d=\"M19 3H5c-1.1 0-2 .9-2 2v14c0 1.1.9 2 2 2h14c1.1 0 2-.9 2-2V5c0-1.1-.9-2-2-2zM9 17H7v-7h2v7zm4 0h-2V7h2v10zm4 0h-2v-4h2v4z\"/>\n",
              "    </g>\n",
              "</svg>\n",
              "  </button>\n",
              "\n",
              "<style>\n",
              "  .colab-df-quickchart {\n",
              "      --bg-color: #E8F0FE;\n",
              "      --fill-color: #1967D2;\n",
              "      --hover-bg-color: #E2EBFA;\n",
              "      --hover-fill-color: #174EA6;\n",
              "      --disabled-fill-color: #AAA;\n",
              "      --disabled-bg-color: #DDD;\n",
              "  }\n",
              "\n",
              "  [theme=dark] .colab-df-quickchart {\n",
              "      --bg-color: #3B4455;\n",
              "      --fill-color: #D2E3FC;\n",
              "      --hover-bg-color: #434B5C;\n",
              "      --hover-fill-color: #FFFFFF;\n",
              "      --disabled-bg-color: #3B4455;\n",
              "      --disabled-fill-color: #666;\n",
              "  }\n",
              "\n",
              "  .colab-df-quickchart {\n",
              "    background-color: var(--bg-color);\n",
              "    border: none;\n",
              "    border-radius: 50%;\n",
              "    cursor: pointer;\n",
              "    display: none;\n",
              "    fill: var(--fill-color);\n",
              "    height: 32px;\n",
              "    padding: 0;\n",
              "    width: 32px;\n",
              "  }\n",
              "\n",
              "  .colab-df-quickchart:hover {\n",
              "    background-color: var(--hover-bg-color);\n",
              "    box-shadow: 0 1px 2px rgba(60, 64, 67, 0.3), 0 1px 3px 1px rgba(60, 64, 67, 0.15);\n",
              "    fill: var(--button-hover-fill-color);\n",
              "  }\n",
              "\n",
              "  .colab-df-quickchart-complete:disabled,\n",
              "  .colab-df-quickchart-complete:disabled:hover {\n",
              "    background-color: var(--disabled-bg-color);\n",
              "    fill: var(--disabled-fill-color);\n",
              "    box-shadow: none;\n",
              "  }\n",
              "\n",
              "  .colab-df-spinner {\n",
              "    border: 2px solid var(--fill-color);\n",
              "    border-color: transparent;\n",
              "    border-bottom-color: var(--fill-color);\n",
              "    animation:\n",
              "      spin 1s steps(1) infinite;\n",
              "  }\n",
              "\n",
              "  @keyframes spin {\n",
              "    0% {\n",
              "      border-color: transparent;\n",
              "      border-bottom-color: var(--fill-color);\n",
              "      border-left-color: var(--fill-color);\n",
              "    }\n",
              "    20% {\n",
              "      border-color: transparent;\n",
              "      border-left-color: var(--fill-color);\n",
              "      border-top-color: var(--fill-color);\n",
              "    }\n",
              "    30% {\n",
              "      border-color: transparent;\n",
              "      border-left-color: var(--fill-color);\n",
              "      border-top-color: var(--fill-color);\n",
              "      border-right-color: var(--fill-color);\n",
              "    }\n",
              "    40% {\n",
              "      border-color: transparent;\n",
              "      border-right-color: var(--fill-color);\n",
              "      border-top-color: var(--fill-color);\n",
              "    }\n",
              "    60% {\n",
              "      border-color: transparent;\n",
              "      border-right-color: var(--fill-color);\n",
              "    }\n",
              "    80% {\n",
              "      border-color: transparent;\n",
              "      border-right-color: var(--fill-color);\n",
              "      border-bottom-color: var(--fill-color);\n",
              "    }\n",
              "    90% {\n",
              "      border-color: transparent;\n",
              "      border-bottom-color: var(--fill-color);\n",
              "    }\n",
              "  }\n",
              "</style>\n",
              "\n",
              "  <script>\n",
              "    async function quickchart(key) {\n",
              "      const quickchartButtonEl =\n",
              "        document.querySelector('#' + key + ' button');\n",
              "      quickchartButtonEl.disabled = true;  // To prevent multiple clicks.\n",
              "      quickchartButtonEl.classList.add('colab-df-spinner');\n",
              "      try {\n",
              "        const charts = await google.colab.kernel.invokeFunction(\n",
              "            'suggestCharts', [key], {});\n",
              "      } catch (error) {\n",
              "        console.error('Error during call to suggestCharts:', error);\n",
              "      }\n",
              "      quickchartButtonEl.classList.remove('colab-df-spinner');\n",
              "      quickchartButtonEl.classList.add('colab-df-quickchart-complete');\n",
              "    }\n",
              "    (() => {\n",
              "      let quickchartButtonEl =\n",
              "        document.querySelector('#df-f9349445-ddb7-4d2a-aca6-d1794dd7ca07 button');\n",
              "      quickchartButtonEl.style.display =\n",
              "        google.colab.kernel.accessAllowed ? 'block' : 'none';\n",
              "    })();\n",
              "  </script>\n",
              "</div>\n",
              "    </div>\n",
              "  </div>\n"
            ]
          },
          "metadata": {},
          "execution_count": 51
        }
      ],
      "source": [
        "Tab #perintah untuk menampilkan dataset"
      ]
    },
    {
      "cell_type": "code",
      "execution_count": 52,
      "metadata": {
        "colab": {
          "base_uri": "https://localhost:8080/"
        },
        "id": "zQJEYqUGAYGq",
        "outputId": "f7ba720a-2ca3-41ac-8ea4-cbce326da55a"
      },
      "outputs": [
        {
          "output_type": "execute_result",
          "data": {
            "text/plain": [
              "0       1.000000\n",
              "1       1.185994\n",
              "2       1.191499\n",
              "3       1.204771\n",
              "4       1.298773\n",
              "         ...    \n",
              "995     8.099710\n",
              "996     8.739752\n",
              "997     8.780888\n",
              "998     8.897700\n",
              "999    10.000000\n",
              "Name: Number of Units, Length: 1000, dtype: float64"
            ]
          },
          "metadata": {},
          "execution_count": 52
        }
      ],
      "source": [
        "Tab[\"Number of Units\"] #perintah untuk menampilkan kolom Number of Units"
      ]
    },
    {
      "cell_type": "code",
      "execution_count": 55,
      "metadata": {
        "colab": {
          "base_uri": "https://localhost:8080/"
        },
        "id": "dRhskIEYAYGq",
        "outputId": "87abb75b-6084-4d7f-d8bc-b6818a9b9edd"
      },
      "outputs": [
        {
          "output_type": "execute_result",
          "data": {
            "text/plain": [
              "0      95.066056\n",
              "1      96.531750\n",
              "2      73.661311\n",
              "3      95.566843\n",
              "4      98.777013\n",
              "         ...    \n",
              "995    23.855067\n",
              "996    27.536542\n",
              "997    25.973787\n",
              "998    25.138311\n",
              "999    21.547777\n",
              "Name: Manufacturing Cost, Length: 1000, dtype: float64"
            ]
          },
          "metadata": {},
          "execution_count": 55
        }
      ],
      "source": [
        "Tab[\"Manufacturing Cost\"] #perintah untuk menampilkan kolom manufacturing cost"
      ]
    },
    {
      "cell_type": "markdown",
      "metadata": {
        "id": "q45e47aiAYGq"
      },
      "source": [
        "### Matplotlib\n",
        "\n",
        "- Matplotlib adalah library Python untuk visualisasi data dengan dua dimensi\n",
        "- Bersifat open source dan tersedia di https://matplotlib.org/\n",
        "- Matplotlib berkaitan dengan NumPy dan Pandas\n",
        "- Jika library belum terpasang, tuliskan perintah instalasi: _pip install matplotlib_\n",
        "- Kemudian impor: _import matplotlib.pyplot as plt_"
      ]
    },
    {
      "cell_type": "code",
      "execution_count": 66,
      "metadata": {
        "id": "iOPCEGIpAYGr"
      },
      "outputs": [],
      "source": [
        "import matplotlib.pyplot as plt #memanggil library matplotlib"
      ]
    },
    {
      "cell_type": "code",
      "execution_count": 64,
      "metadata": {
        "id": "XgAlWe3EAYGr"
      },
      "outputs": [],
      "source": [
        "year = [2001, 2002, 2003, 2004, 2005] #input tahun"
      ]
    },
    {
      "cell_type": "code",
      "execution_count": 65,
      "metadata": {
        "id": "T1-kaxVtAYGr"
      },
      "outputs": [],
      "source": [
        "price = [7.9, 5.6, 9.7, 15.8, 22.9] #input harga"
      ]
    },
    {
      "cell_type": "code",
      "execution_count": 67,
      "metadata": {
        "colab": {
          "base_uri": "https://localhost:8080/",
          "height": 430
        },
        "id": "PfCOQX6ZAYGr",
        "outputId": "96cb3479-d557-40ec-aab3-defb4cec3605"
      },
      "outputs": [
        {
          "output_type": "display_data",
          "data": {
            "text/plain": [
              "<Figure size 640x480 with 1 Axes>"
            ],
            "image/png": "[encoded data removed]"
          },
          "metadata": {}
        }
      ],
      "source": [
        "plt.plot(year, price)\n",
        "plt.show()  #output dari diagram garis"
      ]
    },
    {
      "cell_type": "code",
      "execution_count": 68,
      "metadata": {
        "colab": {
          "base_uri": "https://localhost:8080/",
          "height": 447
        },
        "id": "etUMcD6LAYGr",
        "outputId": "300eec84-b799-4fb1-b658-6d7e9b6b7798"
      },
      "outputs": [
        {
          "output_type": "execute_result",
          "data": {
            "text/plain": [
              "<matplotlib.collections.PathCollection at 0x7be4bce6aad0>"
            ]
          },
          "metadata": {},
          "execution_count": 68
        },
        {
          "output_type": "display_data",
          "data": {
            "text/plain": [
              "<Figure size 640x480 with 1 Axes>"
            ],
            "image/png": "[encoded data removed]"
          },
          "metadata": {}
        }
      ],
      "source": [
        "plt.scatter(year,price)  #perintah untuk menampilkan output dalam bentuk scatter diagram (diagram tebar)"
      ]
    },
    {
      "cell_type": "code",
      "execution_count": 69,
      "metadata": {
        "colab": {
          "base_uri": "https://localhost:8080/",
          "height": 447
        },
        "id": "fy9MGZ8BAYGs",
        "outputId": "9b7057bd-9102-49da-96c0-4c3acaf8bc00"
      },
      "outputs": [
        {
          "output_type": "execute_result",
          "data": {
            "text/plain": [
              "<BarContainer object of 5 artists>"
            ]
          },
          "metadata": {},
          "execution_count": 69
        },
        {
          "output_type": "display_data",
          "data": {
            "text/plain": [
              "<Figure size 640x480 with 1 Axes>"
            ],
            "image/png": "[encoded data removed]"
          },
          "metadata": {}
        }
      ],
      "source": [
        "plt.bar(year,price) #perintah untuk menampilkan output dalam bentuk diagram batang"
      ]
    },
    {
      "cell_type": "code",
      "execution_count": 43,
      "metadata": {
        "id": "PXrp98Q6AYGs"
      },
      "outputs": [],
      "source": []
    }
  ],
  "metadata": {
    "kernelspec": {
      "display_name": "Python 3",
      "language": "python",
      "name": "python3"
    },
    "language_info": {
      "codemirror_mode": {
        "name": "ipython",
        "version": 3
      },
      "file_extension": ".py",
      "mimetype": "text/x-python",
      "name": "python",
      "nbconvert_exporter": "python",
      "pygments_lexer": "ipython3",
      "version": "3.8.8"
    },
    "colab": {
      "provenance": [],
      "include_colab_link": true
    }
  },
  "nbformat": 4,
  "nbformat_minor": 0
}